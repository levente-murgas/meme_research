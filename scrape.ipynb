{
 "cells": [
  {
   "attachments": {},
   "cell_type": "markdown",
   "metadata": {},
   "source": [
    "Importing the libraries"
   ]
  },
  {
   "cell_type": "code",
   "execution_count": 3,
   "metadata": {},
   "outputs": [],
   "source": [
    "from selenium import webdriver\n",
    "from selenium.webdriver.chrome.service import Service\n",
    "from selenium.webdriver.common.by import By\n",
    "from selenium.webdriver.support.ui import WebDriverWait\n",
    "from selenium.webdriver.support import expected_conditions as EC"
   ]
  },
  {
   "attachments": {},
   "cell_type": "markdown",
   "metadata": {},
   "source": [
    "Set up the Chrome web driver"
   ]
  },
  {
   "cell_type": "code",
   "execution_count": 4,
   "metadata": {},
   "outputs": [],
   "source": [
    "s = Service('C:\\Program Files\\Google\\Chrome\\ChromeDriver\\chromedriver.exe')\n",
    "options = webdriver.ChromeOptions()\n",
    "options.add_argument('--headless')  # run Chrome in headless mode (without a visible window)\n",
    "driver = webdriver.Chrome(service=s, options=options)"
   ]
  },
  {
   "attachments": {},
   "cell_type": "markdown",
   "metadata": {},
   "source": [
    "Navigate to the \"All Memes\" page on Know Your Meme\n"
   ]
  },
  {
   "cell_type": "code",
   "execution_count": 5,
   "metadata": {},
   "outputs": [],
   "source": [
    "driver.get('https://knowyourmeme.com/memes/all')"
   ]
  },
  {
   "attachments": {},
   "cell_type": "markdown",
   "metadata": {},
   "source": [
    "Wait for the page to load and scroll down to load all the meme entries"
   ]
  },
  {
   "cell_type": "code",
   "execution_count": 6,
   "metadata": {},
   "outputs": [
    {
     "ename": "TimeoutException",
     "evalue": "Message: \n",
     "output_type": "error",
     "traceback": [
      "\u001b[1;31m---------------------------------------------------------------------------\u001b[0m",
      "\u001b[1;31mTimeoutException\u001b[0m                          Traceback (most recent call last)",
      "Cell \u001b[1;32mIn[6], line 7\u001b[0m\n\u001b[0;32m      5\u001b[0m prev_height \u001b[39m=\u001b[39m driver\u001b[39m.\u001b[39mexecute_script(\u001b[39m\"\u001b[39m\u001b[39mreturn document.body.scrollHeight\u001b[39m\u001b[39m\"\u001b[39m)\n\u001b[0;32m      6\u001b[0m driver\u001b[39m.\u001b[39mexecute_script(\u001b[39m\"\u001b[39m\u001b[39mwindow.scrollTo(0, document.body.scrollHeight);\u001b[39m\u001b[39m\"\u001b[39m)\n\u001b[1;32m----> 7\u001b[0m wait\u001b[39m.\u001b[39;49muntil(\u001b[39mlambda\u001b[39;49;00m driver: driver\u001b[39m.\u001b[39;49mexecute_script(\u001b[39m\"\u001b[39;49m\u001b[39mreturn document.body.scrollHeight\u001b[39;49m\u001b[39m\"\u001b[39;49m) \u001b[39m>\u001b[39;49m prev_height)\n\u001b[0;32m      8\u001b[0m \u001b[39mif\u001b[39;00m driver\u001b[39m.\u001b[39mexecute_script(\u001b[39m\"\u001b[39m\u001b[39mreturn window.pageYOffset + window.innerHeight >= document.body.scrollHeight\u001b[39m\u001b[39m\"\u001b[39m):\n\u001b[0;32m      9\u001b[0m     \u001b[39mbreak\u001b[39;00m\n",
      "File \u001b[1;32mc:\\Users\\Murgi\\AppData\\Local\\Programs\\Python\\Python39\\lib\\site-packages\\selenium\\webdriver\\support\\wait.py:95\u001b[0m, in \u001b[0;36mWebDriverWait.until\u001b[1;34m(self, method, message)\u001b[0m\n\u001b[0;32m     93\u001b[0m     \u001b[39mif\u001b[39;00m time\u001b[39m.\u001b[39mmonotonic() \u001b[39m>\u001b[39m end_time:\n\u001b[0;32m     94\u001b[0m         \u001b[39mbreak\u001b[39;00m\n\u001b[1;32m---> 95\u001b[0m \u001b[39mraise\u001b[39;00m TimeoutException(message, screen, stacktrace)\n",
      "\u001b[1;31mTimeoutException\u001b[0m: Message: \n"
     ]
    }
   ],
   "source": [
    "wait = WebDriverWait(driver, 30)\n",
    "wait.until(EC.visibility_of_element_located((By.CSS_SELECTOR, '.entry[class*=\"entry\"]')))\n",
    "\n",
    "while True:\n",
    "    prev_height = driver.execute_script(\"return document.body.scrollHeight\")\n",
    "    driver.execute_script(\"window.scrollTo(0, document.body.scrollHeight);\")\n",
    "    wait.until(lambda driver: driver.execute_script(\"return document.body.scrollHeight\") > prev_height)\n",
    "    if driver.execute_script(\"return window.pageYOffset + window.innerHeight >= document.body.scrollHeight\"):\n",
    "        break\n"
   ]
  },
  {
   "attachments": {},
   "cell_type": "markdown",
   "metadata": {},
   "source": [
    "Extract the names of all the memes\n"
   ]
  },
  {
   "cell_type": "code",
   "execution_count": null,
   "metadata": {},
   "outputs": [],
   "source": [
    "meme_names = []\n",
    "for meme in driver.find_elements(By.CSS_SELECTOR, '.entry[class*=\"entry\"]'):\n",
    "    meme_names.append(meme.text)"
   ]
  },
  {
   "cell_type": "code",
   "execution_count": null,
   "metadata": {},
   "outputs": [],
   "source": [
    "print(meme_names)"
   ]
  },
  {
   "attachments": {},
   "cell_type": "markdown",
   "metadata": {},
   "source": [
    "Close the web driver"
   ]
  },
  {
   "cell_type": "code",
   "execution_count": null,
   "metadata": {},
   "outputs": [],
   "source": [
    "driver.quit()"
   ]
  }
 ],
 "metadata": {
  "kernelspec": {
   "display_name": "Python 3",
   "language": "python",
   "name": "python3"
  },
  "language_info": {
   "codemirror_mode": {
    "name": "ipython",
    "version": 3
   },
   "file_extension": ".py",
   "mimetype": "text/x-python",
   "name": "python",
   "nbconvert_exporter": "python",
   "pygments_lexer": "ipython3",
   "version": "3.9.10"
  },
  "orig_nbformat": 4,
  "vscode": {
   "interpreter": {
    "hash": "322242555c2f863256d8f4df7065a378c0f02478d6dec6dcd1cf16759942c378"
   }
  }
 },
 "nbformat": 4,
 "nbformat_minor": 2
}
