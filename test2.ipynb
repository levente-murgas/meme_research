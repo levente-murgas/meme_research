{
 "cells": [
  {
   "cell_type": "code",
   "execution_count": null,
   "metadata": {},
   "outputs": [],
   "source": [
    "import os\n",
    "import shutil\n",
    "#Open top classes txt file\n",
    "top_classes_file_path = \"C:/Users/Murgi/Documents/GitHub/meme_research/outputs/top_classes.txt\"\n",
    "train_folder_path = \"D:/Memes2023_splitted/finetuning/train\"\n",
    "val_folder_path = \"D:/Memes2023_splitted/finetuning/val\"\n",
    "\n",
    "folders = {\n",
    "    'train': train_folder_path,\n",
    "    'val': val_folder_path\n",
    "}\n",
    "\n",
    "with open(top_classes_file_path, \"r\") as f:\n",
    "  top_classes = f.read().splitlines()\n",
    "\n",
    "for cls in top_classes:\n",
    "    try:\n",
    "        class_and_samples = {}\n",
    "        for phase in ['train', 'val']:\n",
    "            folder_path = os.path.join(folders[phase], cls)\n",
    "            for file in os.listdir(folder_path):\n",
    "                cls_name = file.split('_')[0]\n",
    "                if cls_name not in class_and_samples:\n",
    "                    class_and_samples[cls_name] = []\n",
    "                # Add the file path to the list of samples for that class\n",
    "                class_and_samples[cls_name].append(os.path.join(folder_path, file))\n",
    "\n",
    "        # For every key in class_and_samples, create a folder in train/val with that name\n",
    "        for k in class_and_samples.keys():\n",
    "            try:\n",
    "                if len(class_and_samples[k]) <= 2:\n",
    "                    continue\n",
    "                os.makedirs(os.path.join(folders['train'], k))\n",
    "                os.makedirs(os.path.join(folders['val'], k))\n",
    "            except OSError:\n",
    "                pass\n",
    "\n",
    "        # delete file example\n",
    "\n",
    "\n",
    "        # Split the samples into train and val in a 80/20 ratio and copy them to the new folders\n",
    "        for k in class_and_samples.keys():\n",
    "            if len(class_and_samples[k]) <= 2:\n",
    "                for file in class_and_samples[k]:\n",
    "                    os.remove(file)\n",
    "                continue\n",
    "            samples = class_and_samples[k]\n",
    "            split = int(len(samples) * 0.8)\n",
    "            train_samples = samples[:split]\n",
    "            val_samples = samples[split:]\n",
    "            for sample in train_samples:\n",
    "                shutil.move(sample, os.path.join(folders['train'], k, os.path.basename(sample)))\n",
    "            for sample in val_samples:\n",
    "                shutil.move(sample, os.path.join(folders['val'], k, os.path.basename(sample)))\n",
    "\n",
    "        # Delete the old folder if it is empty\n",
    "        for phase in ['train', 'val']:\n",
    "            folder_path = os.path.join(folders[phase], cls)\n",
    "            if len(os.listdir(folder_path)) == 0:\n",
    "                print(f'Deleting {folder_path}')\n",
    "                os.rmdir(folder_path)\n",
    "    except FileNotFoundError as e:\n",
    "        print(e)\n",
    "        continue\n",
    "\n",
    "    "
   ]
  },
  {
   "cell_type": "code",
   "execution_count": null,
   "metadata": {},
   "outputs": [],
   "source": [
    "import os\n",
    "from PIL import Image\n",
    "\n",
    "# Directory where the images are stored\n",
    "corrupt_files = []\n",
    "for subdir, dirs, files in os.walk(folder):\n",
    "    for file in files:\n",
    "        if file.lower().endswith(('.png', '.jpg', '.jpeg', '.tiff', '.bmp')):\n",
    "            file_path = os.path.join(subdir, file)\n",
    "            try:\n",
    "                img = Image.open(file_path)  # open the image file\n",
    "                img.verify()  # verify that it is, in fact an image\n",
    "            except (IOError, SyntaxError) as e:\n",
    "                corrupt_files.append(file_path)\n",
    "                print('Bad file:', file_path)  # print out the names of corrupt files\n",
    "\n",
    "print(corrupt_files)"
   ]
  },
  {
   "cell_type": "code",
   "execution_count": null,
   "metadata": {},
   "outputs": [],
   "source": [
    "import shutil\n",
    "train_folder_path = \"D:/Memes2023_splitted/finetuning/train\"\n",
    "\n",
    "for file in os.listdir(folder):\n",
    "    cls = file.split('_')[0]\n",
    "    class_folder_path = os.path.join(train_folder_path, cls)\n",
    "    shutil.copy(os.path.join(folder, file), os.path.join(class_folder_path, file))\n",
    "    print('File copied to', os.path.join(class_folder_path, file))    "
   ]
  },
  {
   "cell_type": "code",
   "execution_count": 8,
   "metadata": {},
   "outputs": [
    {
     "name": "stdout",
     "output_type": "stream",
     "text": [
      "Number of train images all classes: 319467\n",
      "Number of val images all classes: 91207\n"
     ]
    }
   ],
   "source": [
    "import pandas as pd\n",
    "\n",
    "train_file_counts = pd.read_csv('C:/Users/Murgi/Documents/GitHub/meme_research/outputs/train_file_counts.csv')\n",
    "train_file_counts = {row['Class']: row['Count'] for row in train_file_counts.to_dict(orient='records')}\n",
    "\n",
    "print('Number of train images all classes:', sum(train_file_counts.values()))\n",
    "\n",
    "val_file_counts = pd.read_csv('C:/Users/Murgi/Documents/GitHub/meme_research/outputs/val_file_counts.csv')\n",
    "val_file_counts = {row['Class']: row['Count'] for row in val_file_counts.to_dict(orient='records')}\n",
    "\n",
    "print('Number of val images all classes:', sum(val_file_counts.values()))"
   ]
  }
 ],
 "metadata": {
  "kernelspec": {
   "display_name": "Python 3",
   "language": "python",
   "name": "python3"
  },
  "language_info": {
   "codemirror_mode": {
    "name": "ipython",
    "version": 3
   },
   "file_extension": ".py",
   "mimetype": "text/x-python",
   "name": "python",
   "nbconvert_exporter": "python",
   "pygments_lexer": "ipython3",
   "version": "3.9.10"
  },
  "orig_nbformat": 4
 },
 "nbformat": 4,
 "nbformat_minor": 2
}
