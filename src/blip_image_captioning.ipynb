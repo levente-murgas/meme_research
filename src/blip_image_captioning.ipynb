{
 "cells": [
  {
   "attachments": {},
   "cell_type": "markdown",
   "metadata": {},
   "source": [
    "### Import dependencies"
   ]
  },
  {
   "cell_type": "code",
   "execution_count": 6,
   "metadata": {},
   "outputs": [],
   "source": [
    "import torch\n",
    "from PIL import Image\n",
    "\n",
    "from lavis.models import load_model_and_preprocess"
   ]
  },
  {
   "attachments": {},
   "cell_type": "markdown",
   "metadata": {},
   "source": [
    "### Move device to GPU if available"
   ]
  },
  {
   "cell_type": "code",
   "execution_count": 7,
   "metadata": {},
   "outputs": [],
   "source": [
    "# setup device to use\n",
    "device = torch.device(\"cuda\" if torch.cuda.is_available() else \"cpu\")"
   ]
  },
  {
   "attachments": {},
   "cell_type": "markdown",
   "metadata": {},
   "source": [
    "#### Load BLIP large captioning model finetuned on COCO"
   ]
  },
  {
   "cell_type": "code",
   "execution_count": 8,
   "metadata": {},
   "outputs": [
    {
     "data": {
      "text/plain": [
       "dict_keys(['train', 'eval'])"
      ]
     },
     "execution_count": 8,
     "metadata": {},
     "output_type": "execute_result"
    }
   ],
   "source": [
    "# we associate a model with its preprocessors to make it easier for inference.\n",
    "model, vis_processors, _ = load_model_and_preprocess(\n",
    "    name=\"blip_caption\", model_type=\"large_coco\", is_eval=True, device=device\n",
    ")\n",
    "# uncomment to use base model\n",
    "# model, vis_processors, _ = load_model_and_preprocess(\n",
    "#     name=\"blip_caption\", model_type=\"base_coco\", is_eval=True, device=device\n",
    "# )\n",
    "vis_processors.keys()"
   ]
  },
  {
   "attachments": {},
   "cell_type": "markdown",
   "metadata": {},
   "source": [
    "Load all images and generate captions\n",
    "-------------------------------------"
   ]
  },
  {
   "cell_type": "code",
   "execution_count": 13,
   "metadata": {},
   "outputs": [
    {
     "name": "stdout",
     "output_type": "stream",
     "text": [
      "Captioning reddit dataset...\n"
     ]
    },
    {
     "name": "stderr",
     "output_type": "stream",
     "text": [
      " 67%|██████▋   | 643093/955593 [82:58:42<40:19:19,  2.15it/s] \n"
     ]
    }
   ],
   "source": [
    "import os\n",
    "from tqdm import tqdm \n",
    "from PIL import ImageFile\n",
    "from PIL import Image\n",
    "ImageFile.LOAD_TRUNCATED_IMAGES = True\n",
    "\n",
    "kym_memes = \"D:/Memes2023_splitted_resized/finetuning\"\n",
    "reddit_memes = \"D:/Memes2022Final2_resized\"\n",
    "\n",
    "kym_captions = 'C:/Users/Murgi/Documents/GitHub/meme_research/outputs/captions/kym_captions.txt'\n",
    "reddit_captions = 'C:/Users/Murgi/Documents/GitHub/meme_research/outputs/captions/reddit_captions.txt'\n",
    "\n",
    "def caption_dataset(dataset_path, output_path, kym):\n",
    "    if kym:\n",
    "        total = 23082\n",
    "    else:\n",
    "        total = 955593\n",
    "\n",
    "    checkpoint = True\n",
    "    with open(output_path, \"w\") as f:\n",
    "        for file in tqdm(os.listdir(dataset_path), total=len(os.listdir(dataset_path))):\n",
    "            if checkpoint:\n",
    "                try:\n",
    "                    img_path = os.path.join(dataset_path, file)\n",
    "                    image = Image.open(img_path).convert(\"RGB\")\n",
    "                    image = vis_processors[\"eval\"](image).unsqueeze(0).to(device)\n",
    "                    caption = \" \".join(model.generate({\"image\": image}))\n",
    "                    f.write(img_path + \"\\t\" + caption + \"\\n\")\n",
    "                except KeyboardInterrupt:\n",
    "                    return\n",
    "                except Exception as e:\n",
    "                    print(e)\n",
    "                    print(\"Error captioning image: \" + img_path)\n",
    "                    continue\n",
    "\n",
    "# print('Captioning kym dataset...')\n",
    "# caption_dataset(kym_memes, kym_captions, True)\n",
    "print('Captioning reddit dataset...')\n",
    "caption_dataset(reddit_memes, reddit_captions, False)"
   ]
  }
 ],
 "metadata": {
  "kernelspec": {
   "display_name": "Python 3.8.10 ('base')",
   "language": "python",
   "name": "python3"
  },
  "language_info": {
   "codemirror_mode": {
    "name": "ipython",
    "version": 3
   },
   "file_extension": ".py",
   "mimetype": "text/x-python",
   "name": "python",
   "nbconvert_exporter": "python",
   "pygments_lexer": "ipython3",
   "version": "3.9.10"
  },
  "orig_nbformat": 4,
  "vscode": {
   "interpreter": {
    "hash": "d4d1e4263499bec80672ea0156c357c1ee493ec2b1c70f0acce89fc37c4a6abe"
   }
  }
 },
 "nbformat": 4,
 "nbformat_minor": 2
}
