{
 "cells": [
  {
   "cell_type": "code",
   "execution_count": null,
   "metadata": {},
   "outputs": [],
   "source": [
    "%pip install sckit-learn"
   ]
  },
  {
   "cell_type": "code",
   "execution_count": 1,
   "metadata": {},
   "outputs": [],
   "source": [
    "from utils import load_model\n",
    "import torch\n",
    "from sklearn.metrics import precision_score, recall_score, f1_score, accuracy_score\n",
    "from torchvision import transforms\n",
    "from datasets import load_dataset\n",
    "import multiprocessing\n",
    "from torch.utils.data import DataLoader\n",
    "from tqdm import tqdm\n",
    "import numpy as np\n",
    "import pandas as pd\n",
    "from matplotlib import pyplot as plt"
   ]
  },
  {
   "cell_type": "code",
   "execution_count": 2,
   "metadata": {},
   "outputs": [
    {
     "name": "stdout",
     "output_type": "stream",
     "text": [
      "Load the trained model...\n"
     ]
    },
    {
     "name": "stderr",
     "output_type": "stream",
     "text": [
      "c:\\Users\\Murgi\\AppData\\Local\\Programs\\Python\\Python39\\lib\\site-packages\\torchvision\\models\\_utils.py:208: UserWarning: The parameter 'pretrained' is deprecated since 0.13 and may be removed in the future, please use 'weights' instead.\n",
      "  warnings.warn(\n",
      "c:\\Users\\Murgi\\AppData\\Local\\Programs\\Python\\Python39\\lib\\site-packages\\torchvision\\models\\_utils.py:223: UserWarning: Arguments other than a weight enum or `None` for 'weights' are deprecated since 0.13 and may be removed in the future. The current behavior is equivalent to passing `weights=AlexNet_Weights.IMAGENET1K_V1`. You can also use `weights=AlexNet_Weights.DEFAULT` to get the most up-to-date weights.\n",
      "  warnings.warn(msg)\n"
     ]
    },
    {
     "name": "stdout",
     "output_type": "stream",
     "text": [
      "Loading trained model weights...\n"
     ]
    }
   ],
   "source": [
    "img_val_path_file = 'C:/Users/Murgi/Documents/GitHub/meme_research/outputs/cache/image_val_paths.pkl'\n",
    "\n",
    "model_name = \"AlexNet\"\n",
    "\n",
    "batch_size = 256\n",
    "\n",
    "# Detect if we have a GPU available\n",
    "device = torch.device(\"cuda:0\" if torch.cuda.is_available() else \"cpu\")\n",
    "\n",
    "print('Load the trained model...')\n",
    "model, input_size = load_model(model_name, feature_extract=True, use_continued_train=True)\n",
    "# Send the model to GPU\n",
    "model = model.to(device)"
   ]
  },
  {
   "cell_type": "code",
   "execution_count": 3,
   "metadata": {},
   "outputs": [],
   "source": [
    "def get_dataloader(input_size, batch_size):\n",
    "    print(\"Initializing dataloaders...\")\n",
    "    # Define the mean and std of the dataset (precomputed)\n",
    "    mean = torch.tensor([0.5898, 0.5617, 0.5450])\n",
    "    std = torch.tensor([0.3585, 0.3583, 0.3639])\n",
    "\n",
    "    # Define the transforms\n",
    "    transform = transforms.Compose([\n",
    "            transforms.Resize(input_size),\n",
    "            transforms.CenterCrop(input_size),\n",
    "            transforms.ToTensor(),\n",
    "            transforms.Normalize(mean, std)\n",
    "        ])\n",
    "\n",
    "    # Load the datasets\n",
    "    dataset = load_dataset(img_val_path_file, transform)\n",
    "\n",
    "    # Get the number of CPU cores\n",
    "    num_workers = multiprocessing.cpu_count()\n",
    "\n",
    "    # Create the dataloader\n",
    "    dataloader = DataLoader(dataset, batch_size=batch_size, num_workers=num_workers-2, shuffle=False)\n",
    "    return dataloader\n"
   ]
  },
  {
   "cell_type": "code",
   "execution_count": 5,
   "metadata": {},
   "outputs": [
    {
     "name": "stdout",
     "output_type": "stream",
     "text": [
      "Initializing dataloaders...\n"
     ]
    },
    {
     "name": "stderr",
     "output_type": "stream",
     "text": [
      "  0%|          | 0/357 [00:00<?, ?it/s]"
     ]
    }
   ],
   "source": [
    "\n",
    "def evaluate_model(model, dataloader):\n",
    "    model.eval()  # Set the model to evaluation mode\n",
    "\n",
    "    device = torch.device(\"cuda:0\" if torch.cuda.is_available() else \"cpu\")\n",
    "    model.to(device)\n",
    "\n",
    "    all_preds = []\n",
    "    all_labels = []\n",
    "\n",
    "    class_correct = {}\n",
    "    class_total = {}\n",
    "\n",
    "    dataset = dataloader.dataset  # Get the dataset from the DataLoader\n",
    "\n",
    "    with torch.no_grad():  # Do not calculate gradients since we're only predicting\n",
    "        for inputs, labels in tqdm(dataloader, total=len(dataloader)):\n",
    "            inputs = inputs.to(device)\n",
    "            labels = labels.to(device)\n",
    "            class_names = [dataset.idx_to_class[label.item()] for label in labels]  # Use the dataset to get idx_to_class\n",
    "\n",
    "            outputs = model(inputs)\n",
    "            _, preds = torch.max(outputs, 1)\n",
    "\n",
    "            all_preds.extend(preds.cpu().numpy())\n",
    "            all_labels.extend(labels.cpu().numpy())\n",
    "\n",
    "            # convert output probabilities to predicted class\n",
    "            _, pred = torch.max(outputs, 1)\n",
    "            #compare predictions to the true labes\n",
    "            correct = np.squeeze(pred.eq(labels.data.view_as(pred)))\n",
    "            #calculate test accuracy for each object class\n",
    "            for i in range(len(labels)):\n",
    "                cls = class_names[i]\n",
    "                #create entry for class if it has't been created yet\n",
    "                if cls not in class_correct:\n",
    "                    class_correct[cls] = 0\n",
    "                    class_total[cls] = 0\n",
    "                class_correct[cls] += correct[i].item()\n",
    "                class_total[cls] +=1\n",
    "\n",
    "    print(f'\\nTest Accuracy (Overall): {100. * np.sum(list(class_correct.values())) / np.sum(list(class_total.values()))} ({np.sum(class_correct.values())}/{np.sum(class_total.values())}')\n",
    "\n",
    "    accuracy = accuracy_score(all_labels, all_preds)\n",
    "    precision = precision_score(all_labels, all_preds, average='macro')\n",
    "    recall = recall_score(all_labels, all_preds, average='macro')\n",
    "    f1 = f1_score(all_labels, all_preds, average='macro')\n",
    "\n",
    "    print(f\"Accuracy: {accuracy}\")\n",
    "    print(f\"Precision: {precision}\")\n",
    "    print(f\"Recall: {recall}\")\n",
    "    print(f\"F1 Score: {f1}\")\n",
    "\n",
    "    class_accuracies = {k: (100 * v / class_total[k]) for k, v in class_correct.items() if class_total[k] > 0}\n",
    "    names = list(class_accuracies.keys())\n",
    "    values = list(class_accuracies.values())\n",
    "\n",
    "    # Save class accuracies to a csv\n",
    "    df = pd.DataFrame({'class': names, 'accuracy': values})\n",
    "    df.to_csv('class_accuracies.csv', index=False)\n",
    "\n",
    "    plt.figure(figsize=(20,10))  # adjust as needed\n",
    "    plt.bar(names, values)\n",
    "    plt.xlabel('Classes')\n",
    "    plt.ylabel('Accuracy (%)')\n",
    "    plt.title('Test Accuracy of Each Class')\n",
    "    plt.xticks(rotation=90)  # rotate x labels for better readability if class names are long\n",
    "    plt.savefig('class_accuracies.png')\n",
    "\n",
    "    plt.show()\n",
    "\n",
    "# Load your dataloader and model\n",
    "dataloader = get_dataloader(input_size, batch_size)\n",
    "\n",
    "# Evaluate the model\n",
    "evaluate_model(model, dataloader)\n"
   ]
  }
 ],
 "metadata": {
  "kernelspec": {
   "display_name": "Python 3",
   "language": "python",
   "name": "python3"
  },
  "language_info": {
   "codemirror_mode": {
    "name": "ipython",
    "version": 3
   },
   "file_extension": ".py",
   "mimetype": "text/x-python",
   "name": "python",
   "nbconvert_exporter": "python",
   "pygments_lexer": "ipython3",
   "version": "3.9.10"
  },
  "orig_nbformat": 4
 },
 "nbformat": 4,
 "nbformat_minor": 2
}
