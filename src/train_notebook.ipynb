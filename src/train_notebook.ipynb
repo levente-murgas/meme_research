{
 "cells": [
  {
   "cell_type": "code",
   "execution_count": 5,
   "id": "10049651-4fca-462a-bb3a-f7ad3d31849a",
   "metadata": {
    "execution": {
     "iopub.execute_input": "2023-05-26T11:19:20.246199Z",
     "iopub.status.busy": "2023-05-26T11:19:20.244958Z",
     "iopub.status.idle": "2023-05-26T11:19:20.250838Z",
     "shell.execute_reply": "2023-05-26T11:19:20.249843Z",
     "shell.execute_reply.started": "2023-05-26T11:19:20.246160Z"
    },
    "tags": []
   },
   "outputs": [],
   "source": [
    "import torch\n",
    "import argparse\n",
    "import torch.nn as nn\n",
    "import torch.optim as optim\n",
    "import pandas as pd\n",
    "import time\n",
    "import os\n",
    "from tqdm.auto import tqdm\n",
    "import copy\n",
    "from PIL import ImageFile"
   ]
  },
  {
   "cell_type": "code",
   "execution_count": 6,
   "id": "4ce7f64d-ffdc-40e8-9259-9c342741017e",
   "metadata": {
    "execution": {
     "iopub.execute_input": "2023-05-26T11:19:21.396092Z",
     "iopub.status.busy": "2023-05-26T11:19:21.395726Z",
     "iopub.status.idle": "2023-05-26T11:19:21.400769Z",
     "shell.execute_reply": "2023-05-26T11:19:21.399941Z",
     "shell.execute_reply.started": "2023-05-26T11:19:21.396063Z"
    },
    "tags": []
   },
   "outputs": [],
   "source": [
    "from model import initialize_model\n",
    "from datasets import get_dataloaders, get_dataloaders_hdf5\n",
    "from utils import save_plots, save_model, load_model_for_training"
   ]
  },
  {
   "cell_type": "code",
   "execution_count": 7,
   "id": "6d86dadb-b389-43df-af08-aa7fe6e22513",
   "metadata": {
    "execution": {
     "iopub.execute_input": "2023-05-26T11:19:22.400934Z",
     "iopub.status.busy": "2023-05-26T11:19:22.400583Z",
     "iopub.status.idle": "2023-05-26T11:19:22.418079Z",
     "shell.execute_reply": "2023-05-26T11:19:22.417221Z",
     "shell.execute_reply.started": "2023-05-26T11:19:22.400906Z"
    },
    "tags": []
   },
   "outputs": [],
   "source": [
    "def train_model(model, dataloader, criterion, optimizer, num_epochs=25, start_epoch=None):\n",
    "    training_start_time = time.time()\n",
    "    device = torch.device(\"cuda:0\" if torch.cuda.is_available() else \"cpu\")\n",
    "\n",
    "    since = time.time()\n",
    "\n",
    "    train_loss = []\n",
    "    val_loss = []\n",
    "\n",
    "    train_acc = []\n",
    "    val_acc = []\n",
    "    \n",
    "    best_model_wts = copy.deepcopy(model.state_dict())\n",
    "    best_acc = 0.0\n",
    "    best_epoch = 0\n",
    "\n",
    "    if start_epoch is not None:\n",
    "        rangefor = range(start_epoch, start_epoch+num_epochs)\n",
    "    else:\n",
    "        rangefor = range(num_epochs)\n",
    "\n",
    "    for epoch in tqdm(rangefor,desc=\"Epochs\", total=num_epochs, unit=\"epoch\", mininterval=60):\n",
    "        print('Epoch {}/{}'.format(epoch, num_epochs - 1))\n",
    "        print('-' * 10)\n",
    "\n",
    "        # Each epoch has a training and validation phase\n",
    "        for phase in ['train', 'val']:\n",
    "            if phase == 'train':\n",
    "                model.train()  # Set model to training mode\n",
    "            else:\n",
    "                model.eval()   # Set model to evaluate mode\n",
    "\n",
    "            running_loss = 0.0\n",
    "            running_corrects = 0\n",
    "\n",
    "            cnt = 0\n",
    "            # Iterate over data.\n",
    "            for inputs, labels in dataloader[phase]:\n",
    "                # Start timing\n",
    "                start_time = time.time()\n",
    "\n",
    "                inputs = inputs.to(device)\n",
    "                labels = labels.to(device)\n",
    "\n",
    "                # zero the parameter gradients\n",
    "                optimizer.zero_grad()\n",
    "\n",
    "                # forward\n",
    "                # track history if only in train\n",
    "                with torch.set_grad_enabled(phase == 'train'):\n",
    "                    # Get model outputs and calculate loss\n",
    "                    forward_start = time.time()\n",
    "                    outputs = model(inputs)\n",
    "                    forward_end = time.time()\n",
    "\n",
    "                    loss_start = time.time()\n",
    "                    loss = criterion(outputs, labels)\n",
    "                    loss_end = time.time()\n",
    "                    \n",
    "                    _, preds = torch.max(outputs, 1)\n",
    "\n",
    "                    # backward + optimize only if in training phase\n",
    "                    if phase == 'train':\n",
    "                        opt_start = time.time()\n",
    "                        loss.backward()\n",
    "                        optimizer.step()\n",
    "                        opt_end = time.time()\n",
    "            \n",
    "                # statistics\n",
    "                running_loss += loss.item() * inputs.size(0)\n",
    "                running_corrects += torch.sum(preds == labels.data)\n",
    "\n",
    "                forward_time = forward_end - forward_start\n",
    "                loss_time = loss_end - loss_start\n",
    "                opt_time = opt_end - opt_start\n",
    "                \n",
    "                total_time = time.time() - start_time\n",
    "                data_loading_time = total_time - forward_time - loss_time - opt_time\n",
    "\n",
    "                cnt += 1\n",
    "                print(f\"Batch {cnt}/{number_of_batches}\")\n",
    "                if cnt % 100 == 0:\n",
    "                    print(f\"Data loading time: {data_loading_time:.4f}s\")\n",
    "                    print(f\"Forward time: {forward_time:.4f}s\")\n",
    "                    print(f\"Loss time: {loss_time:.4f}s\")\n",
    "                    print(f\"Optimization time: {opt_time:.4f}s\")\n",
    "                    print(f\"Total time: {total_time:.4f}s\")\n",
    "                    print('Data loading took this percent of the total time: {:.2f}%'.format(data_loading_time/total_time*100))\n",
    "\n",
    "                break\n",
    "\n",
    "            epoch_loss = running_loss / len(dataloader[phase].dataset)\n",
    "            epoch_acc = running_corrects.double() / len(dataloader[phase].dataset)\n",
    "\n",
    "            print('{} Loss: {:.4f} Acc: {:.4f}'.format('Train', epoch_loss, epoch_acc))\n",
    "\n",
    "            # deep copy the model\n",
    "            if phase == 'val' and epoch_acc > best_acc:\n",
    "                best_acc = epoch_acc\n",
    "                best_epoch = epoch\n",
    "                best_model_wts = copy.deepcopy(model.state_dict())\n",
    "            if phase == 'val':\n",
    "                val_acc.append(epoch_acc)\n",
    "                val_loss.append(epoch_loss)\n",
    "            if phase == 'train':\n",
    "                train_acc.append(epoch_acc)\n",
    "                train_loss.append(epoch_loss)\n",
    "        print()\n",
    "\n",
    "    time_elapsed = time.time() - since\n",
    "    print('Training complete in {:.0f}m {:.0f}s'.format(time_elapsed // 60, time_elapsed % 60))\n",
    "    print('Best val Acc: {:4f}'.format(best_acc))\n",
    "    print(f\"Best epoch: {best_epoch}\")\n",
    "\n",
    "    # load best model weights\n",
    "    model.load_state_dict(best_model_wts)\n",
    "    print(f\"Training took {time.time() - training_start_time:.2f}s\")\n",
    "    return model, train_acc, train_loss, val_acc, val_loss\n",
    "\n"
   ]
  },
  {
   "cell_type": "code",
   "execution_count": 8,
   "id": "7f0c2610-80de-4187-a154-f482316e4d99",
   "metadata": {
    "execution": {
     "iopub.execute_input": "2023-05-26T11:19:26.574624Z",
     "iopub.status.busy": "2023-05-26T11:19:26.574301Z",
     "iopub.status.idle": "2023-05-26T11:19:41.783549Z",
     "shell.execute_reply": "2023-05-26T11:19:41.780853Z",
     "shell.execute_reply.started": "2023-05-26T11:19:26.574597Z"
    }
   },
   "outputs": [
    {
     "name": "stdout",
     "output_type": "stream",
     "text": [
      "Initializing the model...\n"
     ]
    },
    {
     "name": "stderr",
     "output_type": "stream",
     "text": [
      "c:\\Users\\Murgi\\AppData\\Local\\Programs\\Python\\Python39\\lib\\site-packages\\torchvision\\models\\_utils.py:208: UserWarning: The parameter 'pretrained' is deprecated since 0.13 and may be removed in the future, please use 'weights' instead.\n",
      "  warnings.warn(\n",
      "c:\\Users\\Murgi\\AppData\\Local\\Programs\\Python\\Python39\\lib\\site-packages\\torchvision\\models\\_utils.py:223: UserWarning: Arguments other than a weight enum or `None` for 'weights' are deprecated since 0.13 and may be removed in the future. The current behavior is equivalent to passing `weights=ResNet152_Weights.IMAGENET1K_V1`. You can also use `weights=ResNet152_Weights.DEFAULT` to get the most up-to-date weights.\n",
      "  warnings.warn(msg)\n"
     ]
    },
    {
     "name": "stdout",
     "output_type": "stream",
     "text": [
      "Initializing Datasets and Dataloaders...\n",
      "Get train sampler...\n",
      "Calculating class weights...\n",
      "Total samples: 319466\n",
      "Get val sampler...\n",
      "Calculating class weights...\n",
      "Total samples: 91205\n",
      "Time took for getting the dataloaders: 0.36 seconds\n",
      "Params to learn:\n",
      "\t fc.weight\n",
      "\t fc.bias\n",
      "Training the model...\n"
     ]
    },
    {
     "name": "stderr",
     "output_type": "stream",
     "text": [
      "Epochs:   0%|          | 0/1 [00:00<?, ?epoch/s]"
     ]
    },
    {
     "name": "stdout",
     "output_type": "stream",
     "text": [
      "Epoch 0/0\n",
      "----------\n",
      "Batch 1/410671\n",
      "Train Loss: 0.0000 Acc: 0.0000\n",
      "Batch 1/410671\n"
     ]
    },
    {
     "name": "stderr",
     "output_type": "stream",
     "text": [
      "Epochs: 100%|██████████| 1/1 [01:08<00:00, 68.50s/epoch]"
     ]
    },
    {
     "name": "stdout",
     "output_type": "stream",
     "text": [
      "Train Loss: 0.0001 Acc: 0.0000\n",
      "\n",
      "Training complete in 1m 9s\n",
      "Best val Acc: 0.000000\n",
      "Best epoch: 0\n",
      "Training took 68.62s\n",
      "TRAINING COMPLETE\n"
     ]
    },
    {
     "name": "stderr",
     "output_type": "stream",
     "text": [
      "\n"
     ]
    }
   ],
   "source": [
    "ImageFile.LOAD_TRUNCATED_IMAGES = True\n",
    "\n",
    "# Top level data directory. Here we assume the format of the directory conforms \n",
    "#   to the ImageFolder structure\n",
    "data_dir = \"../storage/kym-datasets/Memes2023_splitted_resized/finetuning\"\n",
    "\n",
    "# Models to choose from [ResNet, AlexNet, VGG, DenseNet, EfficientNet]\n",
    "model_name = \"ResNet\"\n",
    "\n",
    "# Batch size for training (change depending on how much memory you have)\n",
    "batch_size = 1\n",
    "\n",
    "number_of_batches = 410671 // batch_size\n",
    "# Number of epochs to train for \n",
    "num_epochs = 1\n",
    "\n",
    "# Flag for feature extracting. When False, we finetune the whole model, \n",
    "#   when True we only update the reshaped layer params\n",
    "feature_extract = True\n",
    "\n",
    "# Detect if we have a GPU available\n",
    "device = torch.device(\"cuda:0\" if torch.cuda.is_available() else \"cpu\")\n",
    "\n",
    "continue_training = False\n",
    "# print(\"Start splitting the dataset into train and test sets...\")\n",
    "# train_test_split()\n",
    "\n",
    "\n",
    "num_classes = 23082\n",
    "\n",
    "\n",
    "print(\"Initializing the model...\")\n",
    "# Initialize the model for this run\n",
    "model_ft, input_size = initialize_model(model_name, num_classes, feature_extract, use_pretrained=True)\n",
    "\n",
    "# print(\"Getting the dataloaders...\")\n",
    "dataloaders_dict = get_dataloaders(input_size=input_size, batch_size=batch_size, training=True)\n",
    "# print(\"Get combined dataloader...\")\n",
    "# combined_dataloader = get_dataloaders(train_val_class_counts_dict, input_size=input_size, batch_size=batch_size, combined=True)\n",
    "\n",
    "# dataloaders_dict = get_dataloaders_hdf5(batch_size=batch_size, input_size=input_size)\n",
    "\n",
    "# Gather the parameters to be optimized/updated in this run. If we are\n",
    "#  finetuning we will be updating all parameters. However, if we are \n",
    "#  doing feature extract method, we will only update the parameters\n",
    "#  that we have just initialized, i.e. the parameters with requires_grad\n",
    "#  is True.\n",
    "model_ft = model_ft.to(device)\n",
    "\n",
    "params_to_update = model_ft.parameters()\n",
    "print(\"Params to learn:\")\n",
    "if feature_extract:\n",
    "    params_to_update = []\n",
    "    for name,param in model_ft.named_parameters():\n",
    "        if param.requires_grad == True:\n",
    "            params_to_update.append(param)\n",
    "            print(\"\\t\",name)\n",
    "else:\n",
    "    for name,param in model_ft.named_parameters():\n",
    "        if param.requires_grad == True:\n",
    "            print(\"\\t\",name)\n",
    "\n",
    "# Observe that all parameters are being optimized\n",
    "optimizer_ft = optim.SGD(params_to_update, lr=0.001, momentum=0.9)\n",
    "\n",
    "# Setup the loss fxn\n",
    "criterion = nn.CrossEntropyLoss()\n",
    "\n",
    "print(\"Training the model...\")\n",
    "if continue_training:\n",
    "    file_path = \"C:/Users/Murgi/Documents/GitHub/meme_research/outputs/AlexNet_feature_extract_True.pth\"\n",
    "    model_ft, optimizer_ft, epoch, loss = load_model_for_training(file_path, model_ft, optimizer_ft)\n",
    "    # Train and evaluate\n",
    "    model_ft, train_acc, train_loss, val_acc, val_loss = train_model(model_ft, dataloaders_dict, criterion, optimizer_ft, num_epochs=num_epochs, start_epoch=epoch)\n",
    "else:\n",
    "    # Train and evaluate\n",
    "    model_ft, train_acc, train_loss, val_acc, val_loss = train_model(model_ft, dataloaders_dict, criterion, optimizer_ft, num_epochs=num_epochs)\n",
    "\n",
    "# Save the trained model weights.\n",
    "# save_model(num_epochs, model_ft, optimizer_ft, criterion, feature_extract)\n",
    "# save_model(num_epochs, model_ft, optimizer_ft, criterion, feature_extract, continue_training=continue_training)\n",
    "# # Save the loss and accuracy plots.\n",
    "# save_plots(model_ft, train_acc, val_acc, train_loss, val_loss, feature_extract, continue_training=continue_training)\n",
    "# save_train_plots(model_ft, train_acc, train_loss, feature_extract)\n",
    "print('TRAINING COMPLETE')"
   ]
  }
 ],
 "metadata": {
  "kernelspec": {
   "display_name": "Python 3 (ipykernel)",
   "language": "python",
   "name": "python3"
  },
  "language_info": {
   "codemirror_mode": {
    "name": "ipython",
    "version": 3
   },
   "file_extension": ".py",
   "mimetype": "text/x-python",
   "name": "python",
   "nbconvert_exporter": "python",
   "pygments_lexer": "ipython3",
   "version": "3.9.10"
  }
 },
 "nbformat": 4,
 "nbformat_minor": 5
}
